{
 "cells": [
  {
   "cell_type": "code",
   "execution_count": 84,
   "metadata": {},
   "outputs": [],
   "source": [
    "import os,datetime,pickle,numpy\n",
    "from matplotlib import pyplot as plt\n",
    "from pyhspf.preprocessing import NWISExtractor\n",
    "\n",
    "gageid='07161450'\n",
    "NWIS = 'NWIS-metadata'\n",
    "directory = 'DATA-{}'.format(gageid)\n",
    "watershed_HUC8='11050003'\n",
    "\n",
    "\n",
    "nwisextractor = NWISExtractor(NWIS)   #check the NWIS folder, see if it exists.\n"
   ]
  },
  {
   "cell_type": "code",
   "execution_count": 54,
   "metadata": {
    "scrolled": false
   },
   "outputs": [
    {
     "name": "stdout",
     "output_type": "stream",
     "text": [
      "NWIS directory NWIS-metadata exists\n",
      "\n",
      "NWIS source metadata file NWIS-metadata/USGS_Streamgages-NHD_Locations_Shape.zip is present\n",
      "\n",
      "gage metadata NWIS-metadata/USGS_Streamgages-NHD_Locations is present\n",
      "\n",
      "gage station file DATA-07161450/gagestations exists\n",
      "\n"
     ]
    }
   ],
   "source": [
    "#download the metadata information of entire gagestations in USA.\n",
    "#and extract selected metadata information into created 'DATA' forlder.\n",
    "nwisextractor.extract_HUC8(watershed_HUC8, directory) \n"
   ]
  },
  {
   "cell_type": "code",
   "execution_count": 81,
   "metadata": {},
   "outputs": [
    {
     "name": "stdout",
     "output_type": "stream",
     "text": [
      "gage data for 07161450 exist\n",
      "\n"
     ]
    }
   ],
   "source": [
    "start = datetime.datetime(1930, 1, 1)      # start date for timeseries\n",
    "end   = datetime.datetime(2020, 1, 1)      # end date for timeseries\n",
    "gagepath='{}/gagedata'.format(directory)\n",
    "if not os.path.isdir(gagepath):\n",
    "    nwisextractor.download_all(start, end, output = gagepath)\n",
    "    \n",
    "gagedata  = 'Cimarron River near Ripley'\n",
    "nwisextractor.download_gagedata(gageid, start, end, output = gagedata)\n",
    "\n"
   ]
  },
  {
   "cell_type": "code",
   "execution_count": 101,
   "metadata": {},
   "outputs": [
    {
     "data": {
      "image/png": "[encoded data removed]",
      "text/plain": [
       "<Figure size 432x288 with 2 Axes>"
      ]
     },
     "metadata": {
      "needs_background": "light"
     },
     "output_type": "display_data"
    },
    {
     "name": "stdout",
     "output_type": "stream",
     "text": [
      "Maximum flow (cfs):        88800.0\n",
      "Maximum flow occur at:     2019-05-26 00:00:00\n",
      "145\n"
     ]
    }
   ],
   "source": [
    "s = datetime.datetime(2019, 1, 1)  # Start date \n",
    "e = datetime.datetime(2020, 1, 1)   # End date\n",
    "\n",
    "data = station.make_timeseries(start = s, end = e)\n",
    "deltat=datetime.timedelta(days=1)\n",
    "  \n",
    "a=[]\n",
    "\n",
    "for i in range(len(data)):\n",
    "    a.append(s+i*deltat)\n",
    "\n",
    "s1=plt.subplot(211)\n",
    "s1.set_ylabel('Daily Flow (cfs)')\n",
    "s1.set_xlabel('')\n",
    "s1.plot(a,ts)\n",
    "plt.grid(True)\n",
    "\n",
    "from scipy      import stats\n",
    "norm = stats.norm(0,1)\n",
    "ticks = [0.1, 0.2, 0.3, 0.4, 0.5, 0.6, 0.7, 0.8, 0.9]\n",
    "norm_ticks = [norm.ppf(t) for t in ticks]\n",
    "\n",
    "\n",
    "data1=data.copy()   # copy the array values from old one\n",
    "data1.sort()\n",
    "s2=plt.subplot(212)\n",
    "s2.set_title('Flow Duration Curve')\n",
    "s2.set_yscale('log')\n",
    "s2.set_ylabel('Daily Flow (cfs)')\n",
    "s2.set_xlabel('Probability of Exceedance')\n",
    "s2.set_xlim([norm.ppf(0.0002), norm.ppf(0.9998)])\n",
    "s2.xaxis.set_ticks(norm_ticks)\n",
    "s2.set_xticklabels(ticks)\n",
    "obs_daily_cdf=[norm.ppf(i / len(data1)) for i in range(len(data1))]\n",
    "obs_daily_cdf.reverse()\n",
    "s2.plot(obs_daily_cdf, data1,  '-', color = 'blue')\n",
    "plt.grid(True)\n",
    "plt.show()\n",
    "\n",
    "\n",
    "print('Maximum flow (cfs):       ', numpy.amax(data))\n",
    "position = data.index(numpy.amax(data))  #find the MAX.occur position in the array\n",
    "t_position=deltat*position+s\n",
    "print('Maximum flow occur at:    ', t_position)\n",
    "\n",
    "print(position)\n",
    "#print(data)"
   ]
  },
  {
   "cell_type": "code",
   "execution_count": 80,
   "metadata": {},
   "outputs": [
    {
     "name": "stdout",
     "output_type": "stream",
     "text": [
      "The water flow information for the Cimarron River near Ripley, OK\n",
      "\n",
      "Gage ID:                      07161450\n",
      "Name:                         Cimarron River near Ripley, OK\n",
      "State:                        OK\n",
      "First day of measurement:     19871001\n",
      "Last day of measurement:      20040930\n",
      "Drainage area (square miles): 17979.0\n",
      "Average flow (cfs):           2220.978\n",
      "NWIS url:                     http://waterdata.usgs.gov/nwis/nwisman/?site_no=07161450\n"
     ]
    }
   ],
   "source": [
    "print('The water flow information for the Cimarron River near Ripley, OK')\n",
    "print('')\n",
    "\n",
    "p = '{}/{}'.format(gagepath,gageid)    #identify p as the picked_gageid file \n",
    "                                           #under 'data-curves' folder.\n",
    "with open(p, 'rb') as f:      #open p file and ensure the file is 'clean up' \n",
    "                              #after finish the process\n",
    "        \n",
    "    station = pickle.load(f)      #to load pickled data from p file\n",
    "\n",
    "# the following are attributes of the station directly from the database\n",
    "\n",
    "print('Gage ID:                     ', station.gageid)\n",
    "print('Name:                        ', station.name)\n",
    "print('State:                       ', station.state)\n",
    "print('First day of measurement:    ', station.day1)\n",
    "print('Last day of measurement:     ', station.dayn)\n",
    "print('Drainage area (square miles):', station.drain)\n",
    "print('Average flow (cfs):          ', station.ave)\n",
    "print('NWIS url:                    ', station.web)"
   ]
  },
  {
   "cell_type": "code",
   "execution_count": null,
   "metadata": {},
   "outputs": [],
   "source": []
  }
 ],
 "metadata": {
  "kernelspec": {
   "display_name": "Python 3",
   "language": "python",
   "name": "python3"
  },
  "language_info": {
   "codemirror_mode": {
    "name": "ipython",
    "version": 3
   },
   "file_extension": ".py",
   "mimetype": "text/x-python",
   "name": "python",
   "nbconvert_exporter": "python",
   "pygments_lexer": "ipython3",
   "version": "3.7.6"
  }
 },
 "nbformat": 4,
 "nbformat_minor": 4
}
